{
 "cells": [
  {
   "cell_type": "code",
   "execution_count": 1,
   "id": "0d55cb17",
   "metadata": {},
   "outputs": [
    {
     "name": "stdout",
     "output_type": "stream",
     "text": [
      "✅ Video saved as traffic_intersection.mp4\n"
     ]
    }
   ],
   "source": [
    "import cv2\n",
    "import os\n",
    "\n",
    "# Path where frames are stored\n",
    "frames_path = \"Drone/frames\"\n",
    "output_video = \"traffic_intersection.mp4\"\n",
    "\n",
    "# Get sorted list of image files\n",
    "images = sorted([img for img in os.listdir(frames_path) if img.endswith(\".jpg\")])\n",
    "\n",
    "# Read first image to get dimensions\n",
    "first_frame = cv2.imread(os.path.join(frames_path, images[0]))\n",
    "height, width, _ = first_frame.shape\n",
    "\n",
    "# Define video writer (MP4, 30 FPS)\n",
    "fourcc = cv2.VideoWriter_fourcc(*'mp4v')\n",
    "out = cv2.VideoWriter(output_video, fourcc, 30, (width, height))\n",
    "\n",
    "for img_name in images:\n",
    "    img_path = os.path.join(frames_path, img_name)\n",
    "    frame = cv2.imread(img_path)\n",
    "    out.write(frame)\n",
    "\n",
    "out.release()\n",
    "print(\"✅ Video saved as\", output_video)\n"
   ]
  },
  {
   "cell_type": "code",
   "execution_count": null,
   "id": "84cca03e",
   "metadata": {},
   "outputs": [
    {
     "ename": "ModuleNotFoundError",
     "evalue": "No module named 'roboflow'",
     "output_type": "error",
     "traceback": [
      "\u001b[31m---------------------------------------------------------------------------\u001b[39m",
      "\u001b[31mModuleNotFoundError\u001b[39m                       Traceback (most recent call last)",
      "\u001b[36mCell\u001b[39m\u001b[36m \u001b[39m\u001b[32mIn[6]\u001b[39m\u001b[32m, line 1\u001b[39m\n\u001b[32m----> \u001b[39m\u001b[32m1\u001b[39m \u001b[38;5;28;01mfrom\u001b[39;00m\u001b[38;5;250m \u001b[39m\u001b[34;01mroboflow\u001b[39;00m\u001b[38;5;250m \u001b[39m\u001b[38;5;28;01mimport\u001b[39;00m Roboflow\n\u001b[32m      3\u001b[39m \u001b[38;5;66;03m# Replace with your Roboflow API key (free account)\u001b[39;00m\n\u001b[32m      4\u001b[39m rf = Roboflow(api_key=\u001b[33m\"\u001b[39m\u001b[33mrf_dcvsmwlVv4V8GQ4hvJtnYRkF39i1\u001b[39m\u001b[33m\"\u001b[39m)\n",
      "\u001b[31mModuleNotFoundError\u001b[39m: No module named 'roboflow'"
     ]
    }
   ],
   "source": [
    "\n"
   ]
  },
  {
   "cell_type": "code",
   "execution_count": null,
   "id": "6da3f1d9",
   "metadata": {},
   "outputs": [],
   "source": []
  }
 ],
 "metadata": {
  "kernelspec": {
   "display_name": "venv",
   "language": "python",
   "name": "python3"
  },
  "language_info": {
   "codemirror_mode": {
    "name": "ipython",
    "version": 3
   },
   "file_extension": ".py",
   "mimetype": "text/x-python",
   "name": "python",
   "nbconvert_exporter": "python",
   "pygments_lexer": "ipython3",
   "version": "3.11.8"
  }
 },
 "nbformat": 4,
 "nbformat_minor": 5
}
